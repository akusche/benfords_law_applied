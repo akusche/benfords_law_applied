{
 "cells": [
  {
   "cell_type": "markdown",
   "metadata": {},
   "source": [
    "# Benford's Law applied"
   ]
  },
  {
   "cell_type": "markdown",
   "metadata": {},
   "source": [
    "The project is real evidence of the concept of Benford's Law. Real data is needed. Therefore, a Python crawler is created that visits the website https://www.carforyou.ch. A website where home or business users can offer their car to potential buyers. In short, **some people offer a car, others buy**.\n",
    "\n",
    "The following diagram shows the flow of data. First, a Python crawl.py program visits the auto website, downloads the entire page, and looks for the relevant attributes. The price of a car is a reasonable attribute to conduct a Benford law analysis on. The result of the crawler program is a list of around XXX vehicles (depending on the crawler settings). This list is fed to Excel and the occurrence of every first digit is counted."
   ]
  },
  {
   "cell_type": "markdown",
   "metadata": {},
   "source": [
    "<img src=\"overview.png\">"
   ]
  },
  {
   "cell_type": "markdown",
   "metadata": {},
   "source": [
    "Furthermore a bar chart is drawn which consist of two colored bars. Orange bars indicate the distribution predicted by Benford's law. Whereas blue bars represents real life occurrence. The total amount of cars crawled is n=XXXX.  "
   ]
  },
  {
   "cell_type": "markdown",
   "metadata": {},
   "source": [
    "<img src=\"analysis.png\">"
   ]
  },
  {
   "cell_type": "markdown",
   "metadata": {},
   "source": [
    "Although the data basis is pretty small (n=XXX) it seems that the frequency distribution of leading digits is very close the  predicted one by Benford's law. The trend that higher digits appears less often can be observed, but digits as 1,6,7,8,9 are rather less often in the sample dataset as Benford's law would suggest. The distribution bests fits the digit 5. \n",
    "\n",
    "\n",
    "The analysis was done by using the files attached:"
   ]
  },
  {
   "cell_type": "markdown",
   "metadata": {},
   "source": [
    "[crawl.ipynb](crawl.ipynb)\n",
    "[analysis.xlsx](analysis.xlsx)"
   ]
  }
 ],
 "metadata": {
  "kernelspec": {
   "display_name": "Python 3",
   "language": "python",
   "name": "python3"
  },
  "language_info": {
   "codemirror_mode": {
    "name": "ipython",
    "version": 3
   },
   "file_extension": ".py",
   "mimetype": "text/x-python",
   "name": "python",
   "nbconvert_exporter": "python",
   "pygments_lexer": "ipython3",
   "version": "3.9.1"
  }
 },
 "nbformat": 4,
 "nbformat_minor": 4
}
